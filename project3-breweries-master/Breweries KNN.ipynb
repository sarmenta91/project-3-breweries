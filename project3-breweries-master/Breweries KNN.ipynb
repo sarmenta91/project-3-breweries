{
 "cells": [
  {
   "cell_type": "code",
   "execution_count": 1,
   "metadata": {},
   "outputs": [],
   "source": [
    "import csv, requests, json, time\n",
    "import pandas as pd\n",
    "import matplotlib.pyplot as plt\n",
    "import numpy as np\n",
    "from sklearn.neighbors import KNeighborsClassifier\n",
    "import pandas as pd\n",
    "import os\n",
    "from sklearn import preprocessing\n",
    "import matplotlib.pyplot as plt"
   ]
  },
  {
   "cell_type": "code",
   "execution_count": 2,
   "metadata": {},
   "outputs": [],
   "source": [
    "brew_info = \"/Users/MG/Desktop/8260_1.csv\"\n",
    "breweries = pd.read_csv(brew_info)\n",
    "#breweries.head()"
   ]
  },
  {
   "cell_type": "code",
   "execution_count": 3,
   "metadata": {},
   "outputs": [],
   "source": [
    "brew_frame = pd.DataFrame({\n",
    "              'Name': breweries['name'],\n",
    "              'Address': breweries['address'],\n",
    "              'City': breweries['city'],\n",
    "              'State': breweries['province'],\n",
    "              'Country': breweries['country'],\n",
    "              'Zip Code': breweries['postalCode'],\n",
    "              'Latitude': breweries['latitude'],\n",
    "              'Longitude': breweries['longitude'],\n",
    "              'Hours': breweries['hours'],\n",
    "              })"
   ]
  },
  {
   "cell_type": "code",
   "execution_count": 4,
   "metadata": {},
   "outputs": [],
   "source": [
    "brew_frame.dropna(inplace=True)\n",
    "\n",
    "state_count = brew_frame['State'].value_counts(bins=None)\n",
    "\n",
    "postal_count = brew_frame['Zip Code'].value_counts(bins=None)\n",
    "\n",
    "date_count = brew_frame['Hours'].value_counts(bins=None)"
   ]
  },
  {
   "cell_type": "code",
   "execution_count": 5,
   "metadata": {},
   "outputs": [],
   "source": [
    "count_df = state_count.rename_axis('State').reset_index(name='Total Breweries')\n",
    "\n",
    "postal_df = postal_count.rename_axis('Zip Code').reset_index(name='Total Breweries')\n",
    "\n",
    "date_df = date_count.rename_axis('Store Hours').reset_index(name='Total Breweries')"
   ]
  },
  {
   "cell_type": "code",
   "execution_count": 6,
   "metadata": {},
   "outputs": [],
   "source": [
    "bins = [-1, 10, 20, 30, 40, 50, 60, 70, 80, 90, 100]\n",
    "\n",
    "labels = [\"10\", \"9\", \"8\", \"7\", \"6\", \"5\", \"4\", \"3\", \"2\", \"1\"]"
   ]
  },
  {
   "cell_type": "code",
   "execution_count": 7,
   "metadata": {},
   "outputs": [],
   "source": [
    "count_df[\"State\"] = pd.cut(count_df[\"Total Breweries\"], bins=bins, labels=labels)\n",
    "\n",
    "postal_df[\"Zip Code\"] = pd.cut(count_df[\"Total Breweries\"], bins=bins, labels=labels)\n",
    "\n",
    "date_df[\"Store Hours\"] = pd.cut(count_df[\"Total Breweries\"], bins=bins, labels=labels)"
   ]
  },
  {
   "cell_type": "code",
   "execution_count": 8,
   "metadata": {},
   "outputs": [],
   "source": [
    "le = preprocessing.LabelEncoder()\n",
    "count_df['Total Breweries'] = le.fit_transform(count_df['Total Breweries'].astype('str'))\n",
    "postal_df['Total Breweries'] = le.fit_transform(postal_df['Total Breweries'].astype('str'))\n",
    "date_df['Total Breweries'] = le.fit_transform(date_df['Total Breweries'].astype('str'))\n",
    "\n",
    "#count_df.fillna(\"\")\n",
    "count_df.dropna(inplace=True)\n",
    "postal_df.dropna(inplace=True)\n",
    "date_df.dropna(inplace=True)"
   ]
  },
  {
   "cell_type": "code",
   "execution_count": 9,
   "metadata": {},
   "outputs": [],
   "source": [
    "target = count_df[\"State\"]\n",
    "target_name = [\"negative,\" \"positive\"]\n",
    "\n",
    "target2 = postal_df[\"Zip Code\"]\n",
    "target_name2 = [\"negative,\" \"positive\"]\n",
    "\n",
    "target3 = date_df[\"Store Hours\"]\n",
    "target_name3 = [\"negative,\" \"positive\"]"
   ]
  },
  {
   "cell_type": "code",
   "execution_count": 10,
   "metadata": {},
   "outputs": [],
   "source": [
    "train = count_df.drop(\"State\", axis=1)\n",
    "feature_names = count_df.columns\n",
    "\n",
    "train2 = postal_df[\"Zip Code\"]\n",
    "feature_names2 = postal_df.columns\n",
    "\n",
    "train3 = date_df[\"Store Hours\"]\n",
    "feature_names3 = date_df.columns"
   ]
  },
  {
   "cell_type": "code",
   "execution_count": 11,
   "metadata": {},
   "outputs": [],
   "source": [
    "from sklearn.model_selection import train_test_split\n",
    "\n",
    "X_train, X_test, y_train, y_test = train_test_split(count_df, target, random_state=42)\n",
    "X2_train, X2_test, y2_train, y2_test = train_test_split(postal_df, target2, random_state=42)\n",
    "X3_train, X3_test, y3_train, y3_test = train_test_split(date_df, target3, random_state=42)"
   ]
  },
  {
   "cell_type": "code",
   "execution_count": 12,
   "metadata": {},
   "outputs": [
    {
     "name": "stdout",
     "output_type": "stream",
     "text": [
      "k: 1, Train/Test Score: 1.000/0.992\n",
      "k: 3, Train/Test Score: 0.990/0.962\n",
      "k: 5, Train/Test Score: 0.980/0.962\n",
      "k: 7, Train/Test Score: 0.970/0.955\n",
      "k: 9, Train/Test Score: 0.962/0.932\n",
      "k: 11, Train/Test Score: 0.952/0.924\n",
      "k: 13, Train/Test Score: 0.952/0.924\n",
      "k: 15, Train/Test Score: 0.952/0.924\n",
      "k: 17, Train/Test Score: 0.952/0.924\n",
      "k: 19, Train/Test Score: 0.952/0.924\n"
     ]
    },
    {
     "data": {
      "image/png": "[encoded data removed]",
      "text/plain": [
       "<Figure size 432x288 with 1 Axes>"
      ]
     },
     "metadata": {},
     "output_type": "display_data"
    }
   ],
   "source": [
    "train_scores = []\n",
    "test_scores = []\n",
    "for k in range(1, 20, 2):\n",
    "    knn = KNeighborsClassifier(n_neighbors=k)\n",
    "    knn.fit(X_train, y_train)\n",
    "    train_score = knn.score(X_train, y_train)\n",
    "    test_score = knn.score(X_test, y_test)\n",
    "    train_scores.append(train_score)\n",
    "    test_scores.append(test_score)\n",
    "    print(f\"k: {k}, Train/Test Score: {train_score:.3f}/{test_score:.3f}\")\n",
    "    \n",
    "    \n",
    "plt.plot(range(1, 20, 2), train_scores, marker='o')\n",
    "plt.plot(range(1, 20, 2), test_scores, marker=\"x\")\n",
    "plt.xlabel(\"k neighbors\")\n",
    "plt.ylabel(\"Testing accuracy Score\")\n",
    "plt.show()"
   ]
  },
  {
   "cell_type": "code",
   "execution_count": 18,
   "metadata": {},
   "outputs": [
    {
     "name": "stdout",
     "output_type": "stream",
     "text": [
      "k=7 Test Acc: 0.955\n"
     ]
    }
   ],
   "source": [
    "knn = KNeighborsClassifier(n_neighbors=7)\n",
    "knn.fit(X_train, y_train)\n",
    "print('k=7 Test Acc: %.3f' % knn.score(X_test, y_test))"
   ]
  },
  {
   "cell_type": "code",
   "execution_count": 14,
   "metadata": {},
   "outputs": [
    {
     "name": "stdout",
     "output_type": "stream",
     "text": [
      "k: 1, Train/Test Score: 1.000/0.992\n",
      "k: 3, Train/Test Score: 0.995/0.970\n",
      "k: 5, Train/Test Score: 0.995/0.970\n",
      "k: 7, Train/Test Score: 0.990/0.962\n",
      "k: 9, Train/Test Score: 0.967/0.947\n",
      "k: 11, Train/Test Score: 0.967/0.947\n",
      "k: 13, Train/Test Score: 0.967/0.947\n",
      "k: 15, Train/Test Score: 0.967/0.947\n",
      "k: 17, Train/Test Score: 0.967/0.947\n",
      "k: 19, Train/Test Score: 0.962/0.939\n"
     ]
    },
    {
     "data": {
      "image/png": "[encoded data removed]",
      "text/plain": [
       "<Figure size 432x288 with 1 Axes>"
      ]
     },
     "metadata": {},
     "output_type": "display_data"
    }
   ],
   "source": [
    "train_scores = []\n",
    "test_scores = []\n",
    "for k in range(1, 20, 2):\n",
    "    knn = KNeighborsClassifier(n_neighbors=k)\n",
    "    knn.fit(X2_train, y2_train)\n",
    "    train_score = knn.score(X2_train, y2_train)\n",
    "    test_score = knn.score(X2_test, y2_test)\n",
    "    train_scores.append(train_score)\n",
    "    test_scores.append(test_score)\n",
    "    print(f\"k: {k}, Train/Test Score: {train_score:.3f}/{test_score:.3f}\")\n",
    "    \n",
    "    \n",
    "plt.plot(range(1, 20, 2), train_scores, marker='o')\n",
    "plt.plot(range(1, 20, 2), test_scores, marker=\"x\")\n",
    "plt.xlabel(\"k neighbors\")\n",
    "plt.ylabel(\"Testing accuracy Score\")\n",
    "plt.show()"
   ]
  },
  {
   "cell_type": "code",
   "execution_count": 19,
   "metadata": {},
   "outputs": [
    {
     "name": "stdout",
     "output_type": "stream",
     "text": [
      "k=11 Test Acc: 0.947\n"
     ]
    }
   ],
   "source": [
    "knn = KNeighborsClassifier(n_neighbors=11)\n",
    "knn.fit(X2_train, y2_train)\n",
    "print('k=11 Test Acc: %.3f' % knn.score(X2_test, y2_test))"
   ]
  },
  {
   "cell_type": "code",
   "execution_count": 16,
   "metadata": {},
   "outputs": [
    {
     "name": "stdout",
     "output_type": "stream",
     "text": [
      "k: 1, Train/Test Score: 1.000/0.992\n",
      "k: 3, Train/Test Score: 0.995/0.970\n",
      "k: 5, Train/Test Score: 0.995/0.970\n",
      "k: 7, Train/Test Score: 0.995/0.970\n",
      "k: 9, Train/Test Score: 0.977/0.955\n",
      "k: 11, Train/Test Score: 0.977/0.955\n",
      "k: 13, Train/Test Score: 0.977/0.955\n",
      "k: 15, Train/Test Score: 0.967/0.947\n",
      "k: 17, Train/Test Score: 0.967/0.947\n",
      "k: 19, Train/Test Score: 0.965/0.947\n"
     ]
    },
    {
     "data": {
      "image/png": "[encoded data removed]",
      "text/plain": [
       "<Figure size 432x288 with 1 Axes>"
      ]
     },
     "metadata": {},
     "output_type": "display_data"
    }
   ],
   "source": [
    "train_scores = []\n",
    "test_scores = []\n",
    "for k in range(1, 20, 2):\n",
    "    knn = KNeighborsClassifier(n_neighbors=k)\n",
    "    knn.fit(X3_train, y3_train)\n",
    "    train_score = knn.score(X3_train, y3_train)\n",
    "    test_score = knn.score(X3_test, y3_test)\n",
    "    train_scores.append(train_score)\n",
    "    test_scores.append(test_score)\n",
    "    print(f\"k: {k}, Train/Test Score: {train_score:.3f}/{test_score:.3f}\")\n",
    "    \n",
    "    \n",
    "plt.plot(range(1, 20, 2), train_scores, marker='o')\n",
    "plt.plot(range(1, 20, 2), test_scores, marker=\"x\")\n",
    "plt.xlabel(\"k neighbors\")\n",
    "plt.ylabel(\"Testing accuracy Score\")\n",
    "plt.show()"
   ]
  },
  {
   "cell_type": "code",
   "execution_count": 21,
   "metadata": {},
   "outputs": [
    {
     "name": "stdout",
     "output_type": "stream",
     "text": [
      "k=13 Test Acc: 0.955\n"
     ]
    }
   ],
   "source": [
    "knn = KNeighborsClassifier(n_neighbors=13)\n",
    "knn.fit(X3_train, y3_train)\n",
    "print('k=13 Test Acc: %.3f' % knn.score(X3_test, y3_test))"
   ]
  },
  {
   "cell_type": "code",
   "execution_count": null,
   "metadata": {},
   "outputs": [],
   "source": []
  }
 ],
 "metadata": {
  "kernelspec": {
   "display_name": "Python 3",
   "language": "python",
   "name": "python3"
  },
  "language_info": {
   "codemirror_mode": {
    "name": "ipython",
    "version": 3
   },
   "file_extension": ".py",
   "mimetype": "text/x-python",
   "name": "python",
   "nbconvert_exporter": "python",
   "pygments_lexer": "ipython3",
   "version": "3.6.8"
  }
 },
 "nbformat": 4,
 "nbformat_minor": 2
}
