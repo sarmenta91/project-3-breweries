{
 "cells": [
  {
   "cell_type": "code",
   "execution_count": 1,
   "metadata": {},
   "outputs": [],
   "source": [
    "import csv, requests, json, time\n",
    "import pandas as pd\n",
    "import matplotlib.pyplot as plt\n",
    "import numpy as np"
   ]
  },
  {
   "cell_type": "code",
   "execution_count": 2,
   "metadata": {},
   "outputs": [
    {
     "data": {
      "text/html": [
       "<div>\n",
       "<style scoped>\n",
       "    .dataframe tbody tr th:only-of-type {\n",
       "        vertical-align: middle;\n",
       "    }\n",
       "\n",
       "    .dataframe tbody tr th {\n",
       "        vertical-align: top;\n",
       "    }\n",
       "\n",
       "    .dataframe thead th {\n",
       "        text-align: right;\n",
       "    }\n",
       "</style>\n",
       "<table border=\"1\" class=\"dataframe\">\n",
       "  <thead>\n",
       "    <tr style=\"text-align: right;\">\n",
       "      <th></th>\n",
       "      <th>id</th>\n",
       "      <th>address</th>\n",
       "      <th>categories</th>\n",
       "      <th>city</th>\n",
       "      <th>country</th>\n",
       "      <th>hours</th>\n",
       "      <th>keys</th>\n",
       "      <th>latitude</th>\n",
       "      <th>longitude</th>\n",
       "      <th>menus</th>\n",
       "      <th>name</th>\n",
       "      <th>postalCode</th>\n",
       "      <th>province</th>\n",
       "      <th>twitter</th>\n",
       "      <th>websites</th>\n",
       "    </tr>\n",
       "  </thead>\n",
       "  <tbody>\n",
       "    <tr>\n",
       "      <th>0</th>\n",
       "      <td>AVweN1T_ByjofQCxwSPL</td>\n",
       "      <td>Syr Airport</td>\n",
       "      <td>Brewery</td>\n",
       "      <td>Syracuse</td>\n",
       "      <td>US</td>\n",
       "      <td>NaN</td>\n",
       "      <td>us/ny/syracuse/syrairport/2098450797</td>\n",
       "      <td>NaN</td>\n",
       "      <td>NaN</td>\n",
       "      <td>NaN</td>\n",
       "      <td>Adirondack Pub</td>\n",
       "      <td>NaN</td>\n",
       "      <td>NY</td>\n",
       "      <td>NaN</td>\n",
       "      <td>NaN</td>\n",
       "    </tr>\n",
       "    <tr>\n",
       "      <th>1</th>\n",
       "      <td>AVwdkF9ZIN2L1WUfxDfw</td>\n",
       "      <td>1320 N Doctor Martin Luther King Dr</td>\n",
       "      <td>Office and Cafeteria Brewer's Hill</td>\n",
       "      <td>Milwaukee</td>\n",
       "      <td>US</td>\n",
       "      <td>NaN</td>\n",
       "      <td>us/wi/milwaukee/1320ndoctormartinlutherkingdr/...</td>\n",
       "      <td>NaN</td>\n",
       "      <td>NaN</td>\n",
       "      <td>NaN</td>\n",
       "      <td>The Waterfront Cafe</td>\n",
       "      <td>53212</td>\n",
       "      <td>WI</td>\n",
       "      <td>NaN</td>\n",
       "      <td>NaN</td>\n",
       "    </tr>\n",
       "    <tr>\n",
       "      <th>2</th>\n",
       "      <td>AVwdlPkf_7pvs4fz7TMr</td>\n",
       "      <td>608 4th St</td>\n",
       "      <td>Brewery Downtown Clovis</td>\n",
       "      <td>Clovis</td>\n",
       "      <td>US</td>\n",
       "      <td>[{\"day\":\"Wed - Sat\",\"hour\":\"5:00 PM - 8:00 PM\"}]</td>\n",
       "      <td>us/ca/clovis/6084thst/-932885010</td>\n",
       "      <td>NaN</td>\n",
       "      <td>NaN</td>\n",
       "      <td>NaN</td>\n",
       "      <td>559 Local Brewing</td>\n",
       "      <td>93612</td>\n",
       "      <td>CA</td>\n",
       "      <td>NaN</td>\n",
       "      <td>http://fresnobrewing.com</td>\n",
       "    </tr>\n",
       "    <tr>\n",
       "      <th>3</th>\n",
       "      <td>AVwcucY0kufWRAb5yWbU</td>\n",
       "      <td>1103 Mills St</td>\n",
       "      <td>breweries &amp; brew pubs</td>\n",
       "      <td>Black Earth</td>\n",
       "      <td>US</td>\n",
       "      <td>NaN</td>\n",
       "      <td>us/wi/blackearth/1103millsst/-757413411</td>\n",
       "      <td>43.138995</td>\n",
       "      <td>-89.747904</td>\n",
       "      <td>NaN</td>\n",
       "      <td>Shack The</td>\n",
       "      <td>53515-9454</td>\n",
       "      <td>WI</td>\n",
       "      <td>NaN</td>\n",
       "      <td>NaN</td>\n",
       "    </tr>\n",
       "    <tr>\n",
       "      <th>4</th>\n",
       "      <td>AVweCkd5kufWRAb5_eaI</td>\n",
       "      <td>130 W Riverside Dr</td>\n",
       "      <td>Brewery and Gastropub Downtown Jeffersonville</td>\n",
       "      <td>Jeffersonville</td>\n",
       "      <td>US</td>\n",
       "      <td>[{\"day\":\"Wed - Thu\",\"hour\":\"3:00 PM - 9:00 PM\"...</td>\n",
       "      <td>us/utica/jeffersonville/130wriversidedr/787280564</td>\n",
       "      <td>NaN</td>\n",
       "      <td>NaN</td>\n",
       "      <td>NaN</td>\n",
       "      <td>Flat12 Bierworks</td>\n",
       "      <td>47130</td>\n",
       "      <td>Utica</td>\n",
       "      <td>flat12bierwerks</td>\n",
       "      <td>http://flat12.me/brewery</td>\n",
       "    </tr>\n",
       "  </tbody>\n",
       "</table>\n",
       "</div>"
      ],
      "text/plain": [
       "                     id                              address  \\\n",
       "0  AVweN1T_ByjofQCxwSPL                          Syr Airport   \n",
       "1  AVwdkF9ZIN2L1WUfxDfw  1320 N Doctor Martin Luther King Dr   \n",
       "2  AVwdlPkf_7pvs4fz7TMr                           608 4th St   \n",
       "3  AVwcucY0kufWRAb5yWbU                        1103 Mills St   \n",
       "4  AVweCkd5kufWRAb5_eaI                   130 W Riverside Dr   \n",
       "\n",
       "                                      categories            city country  \\\n",
       "0                                        Brewery        Syracuse      US   \n",
       "1             Office and Cafeteria Brewer's Hill       Milwaukee      US   \n",
       "2                        Brewery Downtown Clovis          Clovis      US   \n",
       "3                          breweries & brew pubs     Black Earth      US   \n",
       "4  Brewery and Gastropub Downtown Jeffersonville  Jeffersonville      US   \n",
       "\n",
       "                                               hours  \\\n",
       "0                                                NaN   \n",
       "1                                                NaN   \n",
       "2   [{\"day\":\"Wed - Sat\",\"hour\":\"5:00 PM - 8:00 PM\"}]   \n",
       "3                                                NaN   \n",
       "4  [{\"day\":\"Wed - Thu\",\"hour\":\"3:00 PM - 9:00 PM\"...   \n",
       "\n",
       "                                                keys   latitude  longitude  \\\n",
       "0               us/ny/syracuse/syrairport/2098450797        NaN        NaN   \n",
       "1  us/wi/milwaukee/1320ndoctormartinlutherkingdr/...        NaN        NaN   \n",
       "2                   us/ca/clovis/6084thst/-932885010        NaN        NaN   \n",
       "3            us/wi/blackearth/1103millsst/-757413411  43.138995 -89.747904   \n",
       "4  us/utica/jeffersonville/130wriversidedr/787280564        NaN        NaN   \n",
       "\n",
       "  menus                 name  postalCode province          twitter  \\\n",
       "0   NaN       Adirondack Pub         NaN       NY              NaN   \n",
       "1   NaN  The Waterfront Cafe       53212       WI              NaN   \n",
       "2   NaN    559 Local Brewing       93612       CA              NaN   \n",
       "3   NaN            Shack The  53515-9454       WI              NaN   \n",
       "4   NaN     Flat12 Bierworks       47130    Utica  flat12bierwerks   \n",
       "\n",
       "                   websites  \n",
       "0                       NaN  \n",
       "1                       NaN  \n",
       "2  http://fresnobrewing.com  \n",
       "3                       NaN  \n",
       "4  http://flat12.me/brewery  "
      ]
     },
     "execution_count": 2,
     "metadata": {},
     "output_type": "execute_result"
    }
   ],
   "source": [
    "# file_loc = 'Macintosh HD/Users/MG/Desktop/'\n",
    "\n",
    "brew_info = \"/Users/MG/Desktop/8260_1.csv\"\n",
    "breweries = pd.read_csv(brew_info)\n",
    "breweries.head()"
   ]
  },
  {
   "cell_type": "code",
   "execution_count": 3,
   "metadata": {},
   "outputs": [
    {
     "data": {
      "text/html": [
       "<div>\n",
       "<style scoped>\n",
       "    .dataframe tbody tr th:only-of-type {\n",
       "        vertical-align: middle;\n",
       "    }\n",
       "\n",
       "    .dataframe tbody tr th {\n",
       "        vertical-align: top;\n",
       "    }\n",
       "\n",
       "    .dataframe thead th {\n",
       "        text-align: right;\n",
       "    }\n",
       "</style>\n",
       "<table border=\"1\" class=\"dataframe\">\n",
       "  <thead>\n",
       "    <tr style=\"text-align: right;\">\n",
       "      <th></th>\n",
       "      <th>Name</th>\n",
       "      <th>Address</th>\n",
       "      <th>City</th>\n",
       "      <th>State</th>\n",
       "      <th>Country</th>\n",
       "      <th>Zip Code</th>\n",
       "      <th>Latitude</th>\n",
       "      <th>Longitude</th>\n",
       "      <th>Hours</th>\n",
       "    </tr>\n",
       "  </thead>\n",
       "  <tbody>\n",
       "    <tr>\n",
       "      <th>0</th>\n",
       "      <td>Adirondack Pub</td>\n",
       "      <td>Syr Airport</td>\n",
       "      <td>Syracuse</td>\n",
       "      <td>NY</td>\n",
       "      <td>US</td>\n",
       "      <td>NaN</td>\n",
       "      <td>NaN</td>\n",
       "      <td>NaN</td>\n",
       "      <td>NaN</td>\n",
       "    </tr>\n",
       "    <tr>\n",
       "      <th>1</th>\n",
       "      <td>The Waterfront Cafe</td>\n",
       "      <td>1320 N Doctor Martin Luther King Dr</td>\n",
       "      <td>Milwaukee</td>\n",
       "      <td>WI</td>\n",
       "      <td>US</td>\n",
       "      <td>53212</td>\n",
       "      <td>NaN</td>\n",
       "      <td>NaN</td>\n",
       "      <td>NaN</td>\n",
       "    </tr>\n",
       "    <tr>\n",
       "      <th>2</th>\n",
       "      <td>559 Local Brewing</td>\n",
       "      <td>608 4th St</td>\n",
       "      <td>Clovis</td>\n",
       "      <td>CA</td>\n",
       "      <td>US</td>\n",
       "      <td>93612</td>\n",
       "      <td>NaN</td>\n",
       "      <td>NaN</td>\n",
       "      <td>[{\"day\":\"Wed - Sat\",\"hour\":\"5:00 PM - 8:00 PM\"}]</td>\n",
       "    </tr>\n",
       "    <tr>\n",
       "      <th>3</th>\n",
       "      <td>Shack The</td>\n",
       "      <td>1103 Mills St</td>\n",
       "      <td>Black Earth</td>\n",
       "      <td>WI</td>\n",
       "      <td>US</td>\n",
       "      <td>53515-9454</td>\n",
       "      <td>43.138995</td>\n",
       "      <td>-89.747904</td>\n",
       "      <td>NaN</td>\n",
       "    </tr>\n",
       "    <tr>\n",
       "      <th>4</th>\n",
       "      <td>Flat12 Bierworks</td>\n",
       "      <td>130 W Riverside Dr</td>\n",
       "      <td>Jeffersonville</td>\n",
       "      <td>Utica</td>\n",
       "      <td>US</td>\n",
       "      <td>47130</td>\n",
       "      <td>NaN</td>\n",
       "      <td>NaN</td>\n",
       "      <td>[{\"day\":\"Wed - Thu\",\"hour\":\"3:00 PM - 9:00 PM\"...</td>\n",
       "    </tr>\n",
       "  </tbody>\n",
       "</table>\n",
       "</div>"
      ],
      "text/plain": [
       "                  Name                              Address            City  \\\n",
       "0       Adirondack Pub                          Syr Airport        Syracuse   \n",
       "1  The Waterfront Cafe  1320 N Doctor Martin Luther King Dr       Milwaukee   \n",
       "2    559 Local Brewing                           608 4th St          Clovis   \n",
       "3            Shack The                        1103 Mills St     Black Earth   \n",
       "4     Flat12 Bierworks                   130 W Riverside Dr  Jeffersonville   \n",
       "\n",
       "   State Country    Zip Code   Latitude  Longitude  \\\n",
       "0     NY      US         NaN        NaN        NaN   \n",
       "1     WI      US       53212        NaN        NaN   \n",
       "2     CA      US       93612        NaN        NaN   \n",
       "3     WI      US  53515-9454  43.138995 -89.747904   \n",
       "4  Utica      US       47130        NaN        NaN   \n",
       "\n",
       "                                               Hours  \n",
       "0                                                NaN  \n",
       "1                                                NaN  \n",
       "2   [{\"day\":\"Wed - Sat\",\"hour\":\"5:00 PM - 8:00 PM\"}]  \n",
       "3                                                NaN  \n",
       "4  [{\"day\":\"Wed - Thu\",\"hour\":\"3:00 PM - 9:00 PM\"...  "
      ]
     },
     "execution_count": 3,
     "metadata": {},
     "output_type": "execute_result"
    }
   ],
   "source": [
    "brew_frame = pd.DataFrame({\n",
    "              'Name': breweries['name'],\n",
    "              'Address': breweries['address'],\n",
    "              'City': breweries['city'],\n",
    "              'State': breweries['province'],\n",
    "              'Country': breweries['country'],\n",
    "              'Zip Code': breweries['postalCode'],\n",
    "              'Latitude': breweries['latitude'],\n",
    "              'Longitude': breweries['longitude'],\n",
    "              'Hours': breweries['hours'],\n",
    "              })\n",
    "brew_frame.head()"
   ]
  },
  {
   "cell_type": "code",
   "execution_count": 4,
   "metadata": {},
   "outputs": [],
   "source": [
    "#Illinois\n",
    "#brew_frame[brew_frame['State'] == 'IL'].head()"
   ]
  },
  {
   "cell_type": "code",
   "execution_count": 5,
   "metadata": {},
   "outputs": [],
   "source": [
    "#Colorado\n",
    "#brew_frame[brew_frame['State'] == 'CO'].head()"
   ]
  },
  {
   "cell_type": "code",
   "execution_count": 6,
   "metadata": {},
   "outputs": [],
   "source": [
    "#Michigan\n",
    "#brew_frame[brew_frame['State'] == 'MI'].head()"
   ]
  },
  {
   "cell_type": "code",
   "execution_count": 7,
   "metadata": {},
   "outputs": [],
   "source": [
    "#Wisconsin\n",
    "#brew_frame[brew_frame['State'] == 'WI'].head()"
   ]
  },
  {
   "cell_type": "code",
   "execution_count": 8,
   "metadata": {},
   "outputs": [],
   "source": [
    "#brew_nan = brew_frame[brew_frame.isnull().any(axis=1)]\n",
    "#print(brew_nan)"
   ]
  },
  {
   "cell_type": "code",
   "execution_count": 18,
   "metadata": {},
   "outputs": [],
   "source": [
    "brew_frame.dropna(inplace=True)\n",
    "#brew_frame\n",
    "\n",
    "#brew_frame.to_csv('/Users/MG/Desktop/Breweries_True.csv')"
   ]
  },
  {
   "cell_type": "code",
   "execution_count": 23,
   "metadata": {},
   "outputs": [],
   "source": [
    "state_count = brew_frame['State'].value_counts(bins=None)\n",
    "\n",
    "postal_count = brew_frame['Zip Code'].value_counts(bins=None)\n",
    "\n",
    "date_count = brew_frame['Hours'].value_counts(bins=None)"
   ]
  },
  {
   "cell_type": "code",
   "execution_count": 25,
   "metadata": {},
   "outputs": [],
   "source": [
    "count_df = state_count.rename_axis('State').reset_index(name='Total Breweries')\n",
    "\n",
    "postal_df = postal_count.rename_axis('Zip Code').reset_index(name='Total Breweries')\n",
    "\n",
    "date_df = date_count.rename_axis('Store Hours').reset_index(name='Total Breweries')\n",
    "\n",
    "#date_df.to_csv('/Users/MG/Desktop/Breweries_Date Count.csv')"
   ]
  },
  {
   "cell_type": "code",
   "execution_count": 12,
   "metadata": {},
   "outputs": [],
   "source": [
    "import plotly.plotly as py\n",
    "import plotly.figure_factory as ff\n",
    "import plotly.graph_objs as go\n",
    "import plotly\n",
    "\n",
    "plotly.tools.set_credentials_file(username='lamatinal', api_key='VPcrievjz9SJhSSmE5t4')\n",
    "mapbox_access_token = 'pk.eyJ1IjoibGFtYXRpbmFsIiwiYSI6ImNqa3BxMHk2aDFnbjEzcHA4M3Nhb2Z5N2cifQ.04a2NTZHdUn_KjhPo59zfw'"
   ]
  },
  {
   "cell_type": "code",
   "execution_count": 13,
   "metadata": {},
   "outputs": [
    {
     "data": {
      "text/html": [
       "<iframe id=\"igraph\" scrolling=\"no\" style=\"border:none;\" seamless=\"seamless\" src=\"https://plot.ly/~lamatinal/14.embed\" height=\"525px\" width=\"100%\"></iframe>"
      ],
      "text/plain": [
       "<plotly.tools.PlotlyDisplay object>"
      ]
     },
     "execution_count": 13,
     "metadata": {},
     "output_type": "execute_result"
    }
   ],
   "source": [
    "data = [go.Scattermapbox(lat=brew_frame['Latitude'], \n",
    "                         lon=brew_frame['Longitude'], \n",
    "                         mode='markers',\n",
    "                         text=brew_frame['Name'],\n",
    "                         marker=dict(\n",
    "                            size=5,\n",
    "                            color='rgb(0, 0, 128)',\n",
    "                            opacity=0.5)\n",
    "                        )\n",
    "       ]\n",
    "\n",
    "layout = go.Layout(title='USA Craft Breweries', \n",
    "                   autosize=True, \n",
    "                   hovermode='closest', \n",
    "                   showlegend=False,\n",
    "                   mapbox=dict(accesstoken=mapbox_access_token, bearing=0, center=dict(lat=38, lon=-94),\n",
    "                    pitch=0,\n",
    "                    zoom=3,\n",
    "                    style='light')\n",
    "                  )\n",
    "\n",
    "fig = dict(data=data, layout=layout)\n",
    "py.iplot(fig, filename='USA Craft Breweries')"
   ]
  },
  {
   "cell_type": "code",
   "execution_count": 26,
   "metadata": {},
   "outputs": [
    {
     "data": {
      "text/html": [
       "<iframe id=\"igraph\" scrolling=\"no\" style=\"border:none;\" seamless=\"seamless\" src=\"https://plot.ly/~lamatinal/18.embed\" height=\"525px\" width=\"100%\"></iframe>"
      ],
      "text/plain": [
       "<plotly.tools.PlotlyDisplay object>"
      ]
     },
     "execution_count": 26,
     "metadata": {},
     "output_type": "execute_result"
    }
   ],
   "source": [
    "illinois = brew_frame[brew_frame['State'] == 'IL']\n",
    "\n",
    "data = [go.Scattermapbox(lat=illinois['Latitude'], \n",
    "                         lon=illinois['Longitude'], \n",
    "                         mode='markers',\n",
    "                         text=illinois['Name'],\n",
    "                         marker=dict(\n",
    "                            size=5,\n",
    "                            color='rgb(0, 0, 128)',\n",
    "                            opacity=0.5)\n",
    "                        )\n",
    "       ]\n",
    "\n",
    "layout = go.Layout(title='Illinois Craft Breweries', \n",
    "                   autosize=True, \n",
    "                   hovermode='closest', \n",
    "                   showlegend=False,\n",
    "                   mapbox=dict(accesstoken=mapbox_access_token, bearing=0, center=dict(lat=42, lon=-88),\n",
    "                    pitch=0,\n",
    "                    zoom=7,\n",
    "                    style='light')\n",
    "                  )\n",
    "\n",
    "fig = dict(data=data, layout=layout)\n",
    "py.iplot(fig, filename='Illinois Craft Breweries')"
   ]
  },
  {
   "cell_type": "code",
   "execution_count": 15,
   "metadata": {},
   "outputs": [
    {
     "data": {
      "text/html": [
       "<iframe id=\"igraph\" scrolling=\"no\" style=\"border:none;\" seamless=\"seamless\" src=\"https://plot.ly/~lamatinal/20.embed\" height=\"525px\" width=\"100%\"></iframe>"
      ],
      "text/plain": [
       "<plotly.tools.PlotlyDisplay object>"
      ]
     },
     "execution_count": 15,
     "metadata": {},
     "output_type": "execute_result"
    }
   ],
   "source": [
    "colorado = brew_frame[brew_frame['State'] == 'CO']\n",
    "\n",
    "data = [go.Scattermapbox(lat=colorado['Latitude'], \n",
    "                         lon=colorado['Longitude'], \n",
    "                         mode='markers',\n",
    "                         text=colorado['Name'],\n",
    "                         marker=dict(\n",
    "                            size=5,\n",
    "                            color='rgb(0, 0, 128)',\n",
    "                            opacity=0.5)\n",
    "                        )\n",
    "       ]\n",
    "\n",
    "layout = go.Layout(title='Colorado Craft Breweries', \n",
    "                   autosize=True, \n",
    "                   hovermode='closest', \n",
    "                   showlegend=False,\n",
    "                   mapbox=dict(accesstoken=mapbox_access_token, bearing=0, center=dict(lat=39.3, lon=-105),\n",
    "                    pitch=0,\n",
    "                    zoom=6,\n",
    "                    style='light')\n",
    "                  )\n",
    "\n",
    "fig = dict(data=data, layout=layout)\n",
    "py.iplot(fig, filename='Colorado Craft Breweries')"
   ]
  },
  {
   "cell_type": "code",
   "execution_count": 16,
   "metadata": {},
   "outputs": [
    {
     "data": {
      "text/html": [
       "<iframe id=\"igraph\" scrolling=\"no\" style=\"border:none;\" seamless=\"seamless\" src=\"https://plot.ly/~lamatinal/22.embed\" height=\"525px\" width=\"100%\"></iframe>"
      ],
      "text/plain": [
       "<plotly.tools.PlotlyDisplay object>"
      ]
     },
     "execution_count": 16,
     "metadata": {},
     "output_type": "execute_result"
    }
   ],
   "source": [
    "michigan = brew_frame[brew_frame['State'] == 'MI']\n",
    "\n",
    "data = [go.Scattermapbox(lat=michigan['Latitude'], \n",
    "                         lon=michigan['Longitude'], \n",
    "                         mode='markers',\n",
    "                         text=michigan['Name'],\n",
    "                         marker=dict(\n",
    "                            size=5,\n",
    "                            color='rgb(0, 0, 128)',\n",
    "                            opacity=0.5)\n",
    "                        )\n",
    "       ]\n",
    "\n",
    "layout = go.Layout(title='Michigan Craft Breweries', \n",
    "                   autosize=True, \n",
    "                   hovermode='closest', \n",
    "                   showlegend=False,\n",
    "                   mapbox=dict(accesstoken=mapbox_access_token, bearing=0, center=dict(lat=42.5, lon=-83.5),\n",
    "                    pitch=0,\n",
    "                    zoom=6,\n",
    "                    style='light')\n",
    "                  )\n",
    "\n",
    "fig = dict(data=data, layout=layout)\n",
    "py.iplot(fig, filename='Michigan Craft Breweries')"
   ]
  },
  {
   "cell_type": "code",
   "execution_count": 17,
   "metadata": {},
   "outputs": [
    {
     "data": {
      "text/html": [
       "<iframe id=\"igraph\" scrolling=\"no\" style=\"border:none;\" seamless=\"seamless\" src=\"https://plot.ly/~lamatinal/24.embed\" height=\"525px\" width=\"100%\"></iframe>"
      ],
      "text/plain": [
       "<plotly.tools.PlotlyDisplay object>"
      ]
     },
     "execution_count": 17,
     "metadata": {},
     "output_type": "execute_result"
    }
   ],
   "source": [
    "wisconsin = brew_frame[brew_frame['State'] == 'WI']\n",
    "\n",
    "data = [go.Scattermapbox(lat=wisconsin['Latitude'], \n",
    "                         lon=wisconsin['Longitude'], \n",
    "                         mode='markers',\n",
    "                         text=wisconsin['Name'],\n",
    "                         marker=dict(\n",
    "                            size=5,\n",
    "                            color='rgb(0, 0, 128)',\n",
    "                            opacity=0.5)\n",
    "                        )\n",
    "       ]\n",
    "\n",
    "layout = go.Layout(title='Wisconsin Craft Breweries', \n",
    "                   autosize=True, \n",
    "                   hovermode='closest', \n",
    "                   showlegend=False,\n",
    "                   mapbox=dict(accesstoken=mapbox_access_token, bearing=0, center=dict(lat=43.8, lon=-89),\n",
    "                    pitch=0,\n",
    "                    zoom=6,\n",
    "                    style='light')\n",
    "                  )\n",
    "\n",
    "fig = dict(data=data, layout=layout)\n",
    "py.iplot(fig, filename='Wisconsin Craft Breweries')"
   ]
  },
  {
   "cell_type": "code",
   "execution_count": null,
   "metadata": {},
   "outputs": [],
   "source": []
  }
 ],
 "metadata": {
  "kernelspec": {
   "display_name": "Python 3",
   "language": "python",
   "name": "python3"
  },
  "language_info": {
   "codemirror_mode": {
    "name": "ipython",
    "version": 3
   },
   "file_extension": ".py",
   "mimetype": "text/x-python",
   "name": "python",
   "nbconvert_exporter": "python",
   "pygments_lexer": "ipython3",
   "version": "3.6.5"
  }
 },
 "nbformat": 4,
 "nbformat_minor": 2
}
