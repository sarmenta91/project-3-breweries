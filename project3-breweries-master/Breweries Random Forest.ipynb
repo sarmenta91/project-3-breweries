{
 "cells": [
  {
   "cell_type": "code",
   "execution_count": 47,
   "metadata": {},
   "outputs": [],
   "source": [
    "import csv, requests, json, time\n",
    "import pandas as pd\n",
    "import matplotlib.pyplot as plt\n",
    "import numpy as np\n",
    "from sklearn import tree\n",
    "import pandas as pd\n",
    "import os\n",
    "from sklearn import preprocessing"
   ]
  },
  {
   "cell_type": "code",
   "execution_count": 48,
   "metadata": {},
   "outputs": [],
   "source": [
    "# file_loc = 'Macintosh HD/Users/MG/Desktop/'\n",
    "\n",
    "brew_info = \"/Users/MG/Desktop/8260_1.csv\"\n",
    "breweries = pd.read_csv(brew_info)"
   ]
  },
  {
   "cell_type": "code",
   "execution_count": 49,
   "metadata": {},
   "outputs": [],
   "source": [
    "brew_frame = pd.DataFrame({\n",
    "              'Name': breweries['name'],\n",
    "              'Address': breweries['address'],\n",
    "              'City': breweries['city'],\n",
    "              'State': breweries['province'],\n",
    "              'Country': breweries['country'],\n",
    "              'Zip Code': breweries['postalCode'],\n",
    "              'Latitude': breweries['latitude'],\n",
    "              'Longitude': breweries['longitude'],\n",
    "              'Hours': breweries['hours'],\n",
    "              })"
   ]
  },
  {
   "cell_type": "code",
   "execution_count": 50,
   "metadata": {},
   "outputs": [],
   "source": [
    "brew_frame.dropna(inplace=True)\n",
    "\n",
    "state_count = brew_frame['State'].value_counts(bins=None)\n",
    "\n",
    "postal_count = brew_frame['Zip Code'].value_counts(bins=None)\n",
    "\n",
    "date_count = brew_frame['Hours'].value_counts(bins=None)"
   ]
  },
  {
   "cell_type": "code",
   "execution_count": 51,
   "metadata": {},
   "outputs": [],
   "source": [
    "count_df = state_count.rename_axis('State').reset_index(name='Total Breweries')\n",
    "\n",
    "postal_df = postal_count.rename_axis('Zip Code').reset_index(name='Total Breweries')\n",
    "\n",
    "date_df = date_count.rename_axis('Store Hours').reset_index(name='Total Breweries')"
   ]
  },
  {
   "cell_type": "code",
   "execution_count": 52,
   "metadata": {},
   "outputs": [],
   "source": [
    "bins = [-1, 100, 200, 300, 400, 500, 600, 700, 800, 900, 1000]\n",
    "\n",
    "labels = [\"10\", \"9\", \"8\", \"7\", \"6\", \"5\", \"4\", \"3\", \"2\", \"1\"]"
   ]
  },
  {
   "cell_type": "code",
   "execution_count": 53,
   "metadata": {},
   "outputs": [],
   "source": [
    "count_df[\"State\"] = pd.cut(count_df[\"Total Breweries\"], bins=bins, labels=labels)\n",
    "\n",
    "postal_df[\"Zip Code\"] = pd.cut(count_df[\"Total Breweries\"], bins=bins, labels=labels)\n",
    "\n",
    "date_df[\"Store Hours\"] = pd.cut(count_df[\"Total Breweries\"], bins=bins, labels=labels)"
   ]
  },
  {
   "cell_type": "code",
   "execution_count": 54,
   "metadata": {},
   "outputs": [],
   "source": [
    "le = preprocessing.LabelEncoder()\n",
    "count_df['Total Breweries'] = le.fit_transform(count_df['Total Breweries'].astype('str'))\n",
    "postal_df['Total Breweries'] = le.fit_transform(postal_df['Total Breweries'].astype('str'))\n",
    "date_df['Total Breweries'] = le.fit_transform(date_df['Total Breweries'].astype('str'))\n",
    "\n",
    "postal_df.dropna(inplace=True)\n",
    "date_df.dropna(inplace=True)"
   ]
  },
  {
   "cell_type": "code",
   "execution_count": 55,
   "metadata": {},
   "outputs": [],
   "source": [
    "target = count_df[\"State\"]\n",
    "target_name = [\"negative,\" \"positive\"]\n",
    "\n",
    "target2 = postal_df[\"Zip Code\"]\n",
    "target_name2 = [\"negative,\" \"positive\"]\n",
    "\n",
    "target3 = date_df[\"Store Hours\"]\n",
    "target_name3 = [\"negative,\" \"positive\"]"
   ]
  },
  {
   "cell_type": "code",
   "execution_count": 56,
   "metadata": {},
   "outputs": [
    {
     "name": "stderr",
     "output_type": "stream",
     "text": [
      "/anaconda3/envs/PythonData/lib/python3.6/site-packages/ipykernel_launcher.py:2: UserWarning: Pandas doesn't allow columns to be created via a new attribute name - see https://pandas.pydata.org/pandas-docs/stable/indexing.html#attribute-access\n",
      "  \n",
      "/anaconda3/envs/PythonData/lib/python3.6/site-packages/ipykernel_launcher.py:5: UserWarning: Pandas doesn't allow columns to be created via a new attribute name - see https://pandas.pydata.org/pandas-docs/stable/indexing.html#attribute-access\n",
      "  \"\"\"\n"
     ]
    }
   ],
   "source": [
    "train = count_df[\"State\"]\n",
    "feature_names = count_df.columnstrain = count_df[\"State\"]\n",
    "\n",
    "train2 = postal_df[\"Zip Code\"]\n",
    "feature_names2 = postal_df.columnstrain = postal_df[\"Zip Code\"]\n",
    "\n",
    "train3 = date_df[\"Store Hours\"]\n",
    "feature_names3 = count_df.columnstrain = date_df[\"Store Hours\"]"
   ]
  },
  {
   "cell_type": "code",
   "execution_count": 57,
   "metadata": {},
   "outputs": [],
   "source": [
    "from sklearn.model_selection import train_test_split\n",
    "\n",
    "X_train, X_test, y_train, y_test = train_test_split(count_df, target, random_state=42)\n",
    "X2_train, X2_test, y2_train, y2_test = train_test_split(postal_df, target2, random_state=42)\n",
    "X3_train, X3_test, y3_train, y3_test = train_test_split(date_df, target3, random_state=42)"
   ]
  },
  {
   "cell_type": "code",
   "execution_count": 58,
   "metadata": {},
   "outputs": [
    {
     "data": {
      "text/plain": [
       "0.9926470588235294"
      ]
     },
     "execution_count": 58,
     "metadata": {},
     "output_type": "execute_result"
    }
   ],
   "source": [
    "clf = tree.DecisionTreeClassifier()\n",
    "clf = clf.fit(X_train, y_train)\n",
    "clf.score(X_test, y_test)"
   ]
  },
  {
   "cell_type": "code",
   "execution_count": 59,
   "metadata": {},
   "outputs": [
    {
     "data": {
      "text/plain": [
       "0.9926470588235294"
      ]
     },
     "execution_count": 59,
     "metadata": {},
     "output_type": "execute_result"
    }
   ],
   "source": [
    "clf = tree.DecisionTreeClassifier()\n",
    "clf = clf.fit(X2_train, y2_train)\n",
    "clf.score(X2_test, y2_test)"
   ]
  },
  {
   "cell_type": "code",
   "execution_count": 60,
   "metadata": {},
   "outputs": [
    {
     "data": {
      "text/plain": [
       "0.9926470588235294"
      ]
     },
     "execution_count": 60,
     "metadata": {},
     "output_type": "execute_result"
    }
   ],
   "source": [
    "clf = tree.DecisionTreeClassifier()\n",
    "clf = clf.fit(X3_train, y3_train)\n",
    "clf.score(X3_test, y3_test)"
   ]
  },
  {
   "cell_type": "code",
   "execution_count": 61,
   "metadata": {},
   "outputs": [
    {
     "data": {
      "text/plain": [
       "0.9926470588235294"
      ]
     },
     "execution_count": 61,
     "metadata": {},
     "output_type": "execute_result"
    }
   ],
   "source": [
    "from sklearn.ensemble import RandomForestClassifier\n",
    "rf = RandomForestClassifier(n_estimators=200)\n",
    "rf = rf.fit(X_train, y_train)\n",
    "rf.score(X_test, y_test)"
   ]
  },
  {
   "cell_type": "code",
   "execution_count": 62,
   "metadata": {},
   "outputs": [
    {
     "data": {
      "text/plain": [
       "0.9926470588235294"
      ]
     },
     "execution_count": 62,
     "metadata": {},
     "output_type": "execute_result"
    }
   ],
   "source": [
    "from sklearn.ensemble import RandomForestClassifier\n",
    "rf = RandomForestClassifier(n_estimators=200)\n",
    "rf = rf.fit(X2_train, y2_train)\n",
    "rf.score(X2_test, y2_test)"
   ]
  },
  {
   "cell_type": "code",
   "execution_count": 63,
   "metadata": {},
   "outputs": [
    {
     "data": {
      "text/plain": [
       "0.9852579852579852"
      ]
     },
     "execution_count": 63,
     "metadata": {},
     "output_type": "execute_result"
    }
   ],
   "source": [
    "from sklearn.ensemble import RandomForestClassifier\n",
    "rf = RandomForestClassifier(n_estimators=200)\n",
    "rf = rf.fit(X_train, y_train)\n",
    "rf.score(X3_train, y3_train)"
   ]
  },
  {
   "cell_type": "code",
   "execution_count": 64,
   "metadata": {},
   "outputs": [
    {
     "data": {
      "text/plain": [
       "[(0.7726832035222903, '2'), (0.22231679647770974, '8')]"
      ]
     },
     "execution_count": 64,
     "metadata": {},
     "output_type": "execute_result"
    }
   ],
   "source": [
    "sorted(zip(rf.feature_importances_,feature_names), reverse=True)"
   ]
  },
  {
   "cell_type": "code",
   "execution_count": 65,
   "metadata": {},
   "outputs": [
    {
     "data": {
      "text/plain": [
       "[(0.7726832035222903, '2'), (0.22231679647770974, '8')]"
      ]
     },
     "execution_count": 65,
     "metadata": {},
     "output_type": "execute_result"
    }
   ],
   "source": [
    "sorted(zip(rf.feature_importances_,feature_names2), reverse=True)"
   ]
  },
  {
   "cell_type": "code",
   "execution_count": 66,
   "metadata": {},
   "outputs": [
    {
     "data": {
      "text/plain": [
       "[(0.7726832035222903, '2'), (0.22231679647770974, '8')]"
      ]
     },
     "execution_count": 66,
     "metadata": {},
     "output_type": "execute_result"
    }
   ],
   "source": [
    "sorted(zip(rf.feature_importances_,feature_names3), reverse=True)"
   ]
  },
  {
   "cell_type": "code",
   "execution_count": null,
   "metadata": {},
   "outputs": [],
   "source": []
  }
 ],
 "metadata": {
  "kernelspec": {
   "display_name": "Python 3",
   "language": "python",
   "name": "python3"
  },
  "language_info": {
   "codemirror_mode": {
    "name": "ipython",
    "version": 3
   },
   "file_extension": ".py",
   "mimetype": "text/x-python",
   "name": "python",
   "nbconvert_exporter": "python",
   "pygments_lexer": "ipython3",
   "version": "3.6.8"
  }
 },
 "nbformat": 4,
 "nbformat_minor": 2
}
