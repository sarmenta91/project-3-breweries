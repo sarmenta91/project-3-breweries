{
 "cells": [
  {
   "cell_type": "code",
   "execution_count": 142,
   "metadata": {},
   "outputs": [],
   "source": [
    "import csv, requests, json, time\n",
    "import pandas as pd\n",
    "import matplotlib.pyplot as plt\n",
    "import numpy as np\n",
    "from sklearn import tree\n",
    "import pandas as pd\n",
    "import os\n",
    "from sklearn import preprocessing"
   ]
  },
  {
   "cell_type": "code",
   "execution_count": 143,
   "metadata": {},
   "outputs": [],
   "source": [
    "# file_loc = 'Macintosh HD/Users/MG/Desktop/'\n",
    "\n",
    "brew_info = \"/Users/MG/Desktop/8260_1.csv\"\n",
    "breweries = pd.read_csv(brew_info)"
   ]
  },
  {
   "cell_type": "code",
   "execution_count": 144,
   "metadata": {},
   "outputs": [],
   "source": [
    "brew_frame = pd.DataFrame({\n",
    "              'Name': breweries['name'],\n",
    "              'Address': breweries['address'],\n",
    "              'City': breweries['city'],\n",
    "              'State': breweries['province'],\n",
    "              'Country': breweries['country'],\n",
    "              'Zip Code': breweries['postalCode'],\n",
    "              'Latitude': breweries['latitude'],\n",
    "              'Longitude': breweries['longitude'],\n",
    "              'Hours': breweries['hours'],\n",
    "              })"
   ]
  },
  {
   "cell_type": "code",
   "execution_count": 145,
   "metadata": {},
   "outputs": [],
   "source": [
    "brew_frame.dropna(inplace=True)\n",
    "\n",
    "state_count = brew_frame['State'].value_counts(bins=None)\n",
    "\n",
    "postal_count = brew_frame['Zip Code'].value_counts(bins=None)\n",
    "\n",
    "date_count = brew_frame['Hours'].value_counts(bins=None)"
   ]
  },
  {
   "cell_type": "code",
   "execution_count": 146,
   "metadata": {},
   "outputs": [],
   "source": [
    "count_df = state_count.rename_axis('State').reset_index(name='Total Breweries')\n",
    "\n",
    "postal_df = postal_count.rename_axis('Zip Code').reset_index(name='Total Breweries')\n",
    "\n",
    "date_df = date_count.rename_axis('Store Hours').reset_index(name='Total Breweries')"
   ]
  },
  {
   "cell_type": "code",
   "execution_count": 147,
   "metadata": {},
   "outputs": [],
   "source": [
    "bins = [-1, 100, 200, 300, 400, 500, 600, 700, 800, 900, 1000]\n",
    "\n",
    "labels = [\"10\", \"9\", \"8\", \"7\", \"6\", \"5\", \"4\", \"3\", \"2\", \"1\"]"
   ]
  },
  {
   "cell_type": "code",
   "execution_count": 148,
   "metadata": {},
   "outputs": [],
   "source": [
    "count_df[\"State\"] = pd.cut(count_df[\"Total Breweries\"], bins=bins, labels=labels)\n",
    "\n",
    "postal_df[\"Zip Code\"] = pd.cut(count_df[\"Total Breweries\"], bins=bins, labels=labels)\n",
    "\n",
    "date_df[\"Store Hours\"] = pd.cut(count_df[\"Total Breweries\"], bins=bins, labels=labels)"
   ]
  },
  {
   "cell_type": "code",
   "execution_count": 149,
   "metadata": {},
   "outputs": [],
   "source": [
    "le = preprocessing.LabelEncoder()\n",
    "count_df['Total Breweries'] = le.fit_transform(count_df['Total Breweries'].astype('str'))\n",
    "postal_df['Total Breweries'] = le.fit_transform(postal_df['Total Breweries'].astype('str'))\n",
    "date_df['Total Breweries'] = le.fit_transform(date_df['Total Breweries'].astype('str'))\n",
    "\n",
    "postal_df.dropna(inplace=True)\n",
    "date_df.dropna(inplace=True)"
   ]
  },
  {
   "cell_type": "code",
   "execution_count": 150,
   "metadata": {},
   "outputs": [
    {
     "name": "stdout",
     "output_type": "stream",
     "text": [
      "(543, 1) (543,)\n"
     ]
    }
   ],
   "source": [
    "X = count_df.drop(\"State\", axis=1)\n",
    "y = count_df[\"State\"]\n",
    "\n",
    "print(X.shape, y.shape)"
   ]
  },
  {
   "cell_type": "code",
   "execution_count": 151,
   "metadata": {},
   "outputs": [
    {
     "name": "stdout",
     "output_type": "stream",
     "text": [
      "(543, 1) (543,)\n"
     ]
    }
   ],
   "source": [
    "X2 = postal_df.drop(\"Zip Code\", axis=1)\n",
    "y2 = postal_df[\"Zip Code\"]\n",
    "\n",
    "print(X2.shape, y2.shape)"
   ]
  },
  {
   "cell_type": "code",
   "execution_count": 152,
   "metadata": {},
   "outputs": [
    {
     "name": "stdout",
     "output_type": "stream",
     "text": [
      "(543, 1) (543,)\n"
     ]
    }
   ],
   "source": [
    "X3 = date_df.drop(\"Store Hours\", axis=1)\n",
    "y3 = date_df[\"Store Hours\"]\n",
    "\n",
    "print(X3.shape, y3.shape)"
   ]
  },
  {
   "cell_type": "code",
   "execution_count": 153,
   "metadata": {},
   "outputs": [],
   "source": [
    "from sklearn.model_selection import train_test_split\n",
    "\n",
    "X_train, X_test, y_train, y_test = train_test_split(X, y, random_state=42)\n",
    "X2_train, X2_test, y2_train, y2_test = train_test_split(X2, y2, random_state=42)\n",
    "X3_train, X3_test, y3_train, y3_test = train_test_split(X3, y3, random_state=42)"
   ]
  },
  {
   "cell_type": "code",
   "execution_count": 154,
   "metadata": {},
   "outputs": [
    {
     "name": "stdout",
     "output_type": "stream",
     "text": [
      "LogisticRegression(C=1.0, class_weight=None, dual=False, fit_intercept=True,\n",
      "          intercept_scaling=1, max_iter=100, multi_class='ovr', n_jobs=1,\n",
      "          penalty='l2', random_state=None, solver='liblinear', tol=0.0001,\n",
      "          verbose=0, warm_start=False) LogisticRegression(C=1.0, class_weight=None, dual=False, fit_intercept=True,\n",
      "          intercept_scaling=1, max_iter=100, multi_class='ovr', n_jobs=1,\n",
      "          penalty='l2', random_state=None, solver='liblinear', tol=0.0001,\n",
      "          verbose=0, warm_start=False) LogisticRegression(C=1.0, class_weight=None, dual=False, fit_intercept=True,\n",
      "          intercept_scaling=1, max_iter=100, multi_class='ovr', n_jobs=1,\n",
      "          penalty='l2', random_state=None, solver='liblinear', tol=0.0001,\n",
      "          verbose=0, warm_start=False)\n"
     ]
    }
   ],
   "source": [
    "from sklearn.linear_model import LogisticRegression\n",
    "classifier = LogisticRegression()\n",
    "classifier_2 = LogisticRegression()\n",
    "classifier_3 = LogisticRegression()\n",
    "print(classifier, classifier_2, classifier_3)\n"
   ]
  },
  {
   "cell_type": "code",
   "execution_count": 155,
   "metadata": {},
   "outputs": [
    {
     "data": {
      "text/plain": [
       "LogisticRegression(C=1.0, class_weight=None, dual=False, fit_intercept=True,\n",
       "          intercept_scaling=1, max_iter=100, multi_class='ovr', n_jobs=1,\n",
       "          penalty='l2', random_state=None, solver='liblinear', tol=0.0001,\n",
       "          verbose=0, warm_start=False)"
      ]
     },
     "execution_count": 155,
     "metadata": {},
     "output_type": "execute_result"
    }
   ],
   "source": [
    "classifier.fit(X_train, y_train)\n",
    "classifier.fit(X2_train, y2_train)\n",
    "classifier.fit(X3_train, y3_train)"
   ]
  },
  {
   "cell_type": "code",
   "execution_count": 156,
   "metadata": {},
   "outputs": [
    {
     "name": "stdout",
     "output_type": "stream",
     "text": [
      "Training Data Score: 0.6855036855036855\n",
      "Testing Data Score: 0.6617647058823529\n",
      "Training Data Score: 0.019656019656019656\n",
      "Testing Data Score: 0.022058823529411766\n",
      "Training Data Score: 0.9901719901719902\n",
      "Testing Data Score: 0.9632352941176471\n"
     ]
    }
   ],
   "source": [
    "print(f\"Training Data Score: {classifier.score(X_train, y_train)}\")\n",
    "print(f\"Testing Data Score: {classifier.score(X_test, y_test)}\")\n",
    "print(f\"Training Data Score: {classifier.score(X2_train, y2_train)}\")\n",
    "print(f\"Testing Data Score: {classifier.score(X2_test, y2_test)}\")\n",
    "print(f\"Training Data Score: {classifier.score(X3_train, y3_train)}\")\n",
    "print(f\"Testing Data Score: {classifier.score(X3_test, y3_test)}\")"
   ]
  }
 ],
 "metadata": {
  "kernelspec": {
   "display_name": "Python 3",
   "language": "python",
   "name": "python3"
  },
  "language_info": {
   "codemirror_mode": {
    "name": "ipython",
    "version": 3
   },
   "file_extension": ".py",
   "mimetype": "text/x-python",
   "name": "python",
   "nbconvert_exporter": "python",
   "pygments_lexer": "ipython3",
   "version": "3.6.5"
  }
 },
 "nbformat": 4,
 "nbformat_minor": 2
}
